{
 "cells": [
  {
   "cell_type": "markdown",
   "metadata": {},
   "source": [
    "# Built-in Python Operators, Functions and Methods"
   ]
  },
  {
   "cell_type": "markdown",
   "metadata": {},
   "source": [
    "## Introduction\n",
    "\n",
    "As a data scientist you will spend a lot of time writing code in Python. In this lesson, we're going to instroduce some features built right into the langage that will allow you to perform common tasks more quickly and easily."
   ]
  },
  {
   "cell_type": "markdown",
   "metadata": {},
   "source": [
    "## Objectives\n",
    "You will be able to:\n",
    "* Use base Python methods like `.append()`, `.upper()` and `.capitalize()`\n",
    "* Understand (simply) and explain what built in Python methods are\n",
    "* Understand, explain and use some base Python functions like `len()`, `type()`, `sum()`, `max()` and `min()`\n",
    "* Understand and explain what functions are and why they’re useful\n",
    "* Understand, explain and use Python comparison, logical, and identity operators"
   ]
  },
  {
   "cell_type": "markdown",
   "metadata": {},
   "source": [
    "## Introducing \"Objects\"\n",
    "\n",
    "Later in the course we're going to spend a good amount of time on introducing and giving you hands on practice in \"Object Oriented Programming\" (OOP). But for now, to understand how some of the features in Python work, we're going to have to provide you with a brief introduction to some basic concepts. \n",
    "\n",
    "A function is a piece of reusable code. If you often want to capitalize a word, you might write (or use, if someone else has written) a \"function\" called `capitalize()` that will take a string and make it all upper case.\n",
    "\n",
    "An object is a collection of data and functions. It turns out that for many types of programming, putting your functions and data together into \"objects\" is a really useful way to organize all of your code to make it easy to keep track of.\n",
    "\n",
    "If a function is part of an object we call it a method.\n",
    "\n",
    "Python has a number of built in functions and various objects in Python have built in methods.\n",
    "\n",
    "Really understanding objects, functions and methods will probably take a while, and it's something we'll come back to a number of times, but for now, here are the three things you need to know:\n",
    "* Python comes with a range of built in pieces of code to perform common tasks\n",
    "* Some of them you use by writing their name first - e.g. `type(\"hello\")` - those are called functions\n",
    "* Others require you to take an object and \"call a method on the object\" e.g. `my_name.capitalize()` - they are methods\n",
    "\n",
    "Don't worry if it's a bit confusion for now, we'll come back to this repeatedly until it's second nature!\n"
   ]
  },
  {
   "cell_type": "markdown",
   "metadata": {},
   "source": [
    "## Python Methods\n",
    "\n",
    "Most higher-level languages like Python have types like strings or lists that actually come built-in with some really great functionality, which we call methods. Methods are, essentially, functions that are attached or **bound to an object**. Now that sentence might not make complete sense, so, let's unpack it. \n",
    "\n",
    "We have seen some methods and functions already. For example, we have seen and used the `type()` function and the `.title()` method. The key difference is that the `.title()` method has always been bound to a string. The `type()` function, however, is not called on a string or any data type. \n",
    "\n",
    "```python\n",
    "\"hello, i am a string.\".title() # \"Hello, I Am A String.\"\n",
    "\n",
    "type(\"hello, i am a string.\") # str\n",
    "```\n",
    "To illustrate even more clearly, try running the next cell. We will find that Python doesn't know what `title()` is when it is not attached to a string. This is because it is a **method** that is **bound** to the string"
   ]
  },
  {
   "cell_type": "code",
   "execution_count": 1,
   "metadata": {},
   "outputs": [
    {
     "ename": "NameError",
     "evalue": "name 'title' is not defined",
     "output_type": "error",
     "traceback": [
      "\u001b[0;31m\u001b[0m",
      "\u001b[0;31mNameError\u001b[0mTraceback (most recent call last)",
      "\u001b[0;32m<ipython-input-1-fd9d7aa55aaa>\u001b[0m in \u001b[0;36m<module>\u001b[0;34m\u001b[0m\n\u001b[0;32m----> 1\u001b[0;31m \u001b[0mtitle\u001b[0m\u001b[0;34m(\u001b[0m\u001b[0;34m\"hello\"\u001b[0m\u001b[0;34m)\u001b[0m\u001b[0;34m\u001b[0m\u001b[0m\n\u001b[0m",
      "\u001b[0;31mNameError\u001b[0m: name 'title' is not defined"
     ]
    }
   ],
   "source": [
    "title(\"hello\")"
   ]
  },
  {
   "cell_type": "markdown",
   "metadata": {},
   "source": [
    "Don't worry too much about the differences between the two. For now, just know that methods will always need an object or piece of data to be called on, like a string, list, or dictionary. Now let's take a look at a few of these frequently used methods.\n",
    "\n",
    "First, let's look at the `.upper()`, `.lower()`, `.capitalize()` methods, which are all **string methods**, meaning they are only called on strings.\n",
    "\n",
    "* `.upper()` is used to make all characters in a string uppercased.\n",
    "* `.lower()` is used to make all characters in a string lowercased.\n",
    "* `.capitalize()` is used to make only the **first** character in a string uppercased."
   ]
  },
  {
   "cell_type": "code",
   "execution_count": 3,
   "metadata": {},
   "outputs": [
    {
     "name": "stdout",
     "output_type": "stream",
     "text": [
      "HELLO, IM UPPERCASED\n",
      "hello, im lowercased\n",
      "Hello, im capitalized\n",
      "Hello, Im Titled!\n"
     ]
    }
   ],
   "source": [
    "print(\"hello, im uppercased\".upper())\n",
    "print(\"HELLO, IM LOWERCASED\".lower())\n",
    "print(\"hello, im capitalized\".capitalize())\n",
    "print(\"hello, im titled!\".title())"
   ]
  },
  {
   "cell_type": "markdown",
   "metadata": {},
   "source": [
    "Next, let's look at some **list methods**.\n",
    "\n",
    "* `.append([ELEMENT])` is used to add a given element to the end of a list.\n",
    "* `.pop()` is used to remove the last element from the list (or if an index is given, it removes the element at that index).\n",
    "* `.extend([SECOND_LIST])` is used to add all elements from a second list to the first list.\n",
    "\n",
    "It is important to note the **return value** from each of these methods is not the resultying list. These operations **alter** the original list on which we are operating."
   ]
  },
  {
   "cell_type": "code",
   "execution_count": 5,
   "metadata": {},
   "outputs": [
    {
     "name": "stdout",
     "output_type": "stream",
     "text": [
      "[1, 2, 3, 4, 5]\n",
      "[4, 5, 6]\n",
      "[1, 2, 3, 4, 5, 6]\n"
     ]
    }
   ],
   "source": [
    "list_append = [1,2,3,4]\n",
    "list_append.append(5)\n",
    "print(list_append)\n",
    "\n",
    "list_pop = [4,5,6,7]\n",
    "list_pop.pop()\n",
    "print(list_pop)\n",
    "\n",
    "list_one = [1,2,3]\n",
    "list_two = [4,5,6]\n",
    "list_one.extend(list_two)\n",
    "print(list_one)"
   ]
  },
  {
   "cell_type": "markdown",
   "metadata": {},
   "source": [
    "Finally, we'll look at a few **dictionary methods**\n",
    "\n",
    "* `.keys()` is used to return a list-like `dict_keys` object with the name of each key in the dictionary\n",
    "* `.values()` is used to return a list-like `dict_values` object with the values in the dictionary"
   ]
  },
  {
   "cell_type": "code",
   "execution_count": 6,
   "metadata": {},
   "outputs": [
    {
     "name": "stdout",
     "output_type": "stream",
     "text": [
      "dict_keys(['name-key', 'key2', 'num_keys'])\n",
      "dict_values(['example-dict', 'value2', 3])\n"
     ]
    }
   ],
   "source": [
    "dictionary = {'name-key': 'example-dict', 'key2': 'value2', 'num_keys': 3}\n",
    "print(dictionary.keys())\n",
    "print(dictionary.values())"
   ]
  },
  {
   "cell_type": "markdown",
   "metadata": {},
   "source": [
    "> **Note:** If we wante